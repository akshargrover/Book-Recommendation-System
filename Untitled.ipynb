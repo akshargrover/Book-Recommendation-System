{
 "cells": [
  {
   "cell_type": "code",
   "execution_count": 13,
   "id": "03ad4dfb-73d4-48d1-ad65-1153fbed98b2",
   "metadata": {},
   "outputs": [
    {
     "name": "stdout",
     "output_type": "stream",
     "text": [
      "Requirement already satisfied: pandas in c:\\users\\aksha\\anaconda3\\lib\\site-packages (2.2.2)\n",
      "Requirement already satisfied: numpy>=1.26.0 in c:\\users\\aksha\\anaconda3\\lib\\site-packages (from pandas) (2.0.2)\n",
      "Requirement already satisfied: python-dateutil>=2.8.2 in c:\\users\\aksha\\appdata\\roaming\\python\\python312\\site-packages (from pandas) (2.9.0.post0)\n",
      "Requirement already satisfied: pytz>=2020.1 in c:\\users\\aksha\\anaconda3\\lib\\site-packages (from pandas) (2024.1)\n",
      "Requirement already satisfied: tzdata>=2022.7 in c:\\users\\aksha\\anaconda3\\lib\\site-packages (from pandas) (2023.3)\n",
      "Requirement already satisfied: six>=1.5 in c:\\users\\aksha\\appdata\\roaming\\python\\python312\\site-packages (from python-dateutil>=2.8.2->pandas) (1.16.0)\n"
     ]
    }
   ],
   "source": [
    "import numpy as np \n",
    "!pip install pandas"
   ]
  },
  {
   "cell_type": "code",
   "execution_count": 16,
   "id": "f7e0d08e-32d0-432e-bc96-f7dd75608b3c",
   "metadata": {},
   "outputs": [
    {
     "name": "stdout",
     "output_type": "stream",
     "text": [
      "Requirement already satisfied: pandas in c:\\users\\aksha\\anaconda3\\lib\\site-packages (2.2.2)\n",
      "Collecting pandas\n",
      "  Downloading pandas-2.2.3-cp312-cp312-win_amd64.whl.metadata (19 kB)\n",
      "Requirement already satisfied: numpy>=1.26.0 in c:\\users\\aksha\\anaconda3\\lib\\site-packages (from pandas) (2.0.2)\n",
      "Requirement already satisfied: python-dateutil>=2.8.2 in c:\\users\\aksha\\appdata\\roaming\\python\\python312\\site-packages (from pandas) (2.9.0.post0)\n",
      "Requirement already satisfied: pytz>=2020.1 in c:\\users\\aksha\\anaconda3\\lib\\site-packages (from pandas) (2024.1)\n",
      "Requirement already satisfied: tzdata>=2022.7 in c:\\users\\aksha\\anaconda3\\lib\\site-packages (from pandas) (2023.3)\n",
      "Requirement already satisfied: six>=1.5 in c:\\users\\aksha\\appdata\\roaming\\python\\python312\\site-packages (from python-dateutil>=2.8.2->pandas) (1.16.0)\n",
      "Downloading pandas-2.2.3-cp312-cp312-win_amd64.whl (11.5 MB)\n",
      "   ---------------------------------------- 0.0/11.5 MB ? eta -:--:--\n",
      "   ---------------------------------------- 0.0/11.5 MB 1.4 MB/s eta 0:00:09\n",
      "   -- ------------------------------------- 0.6/11.5 MB 9.2 MB/s eta 0:00:02\n",
      "   ------- -------------------------------- 2.2/11.5 MB 20.2 MB/s eta 0:00:01\n",
      "   ----------- ---------------------------- 3.4/11.5 MB 24.2 MB/s eta 0:00:01\n",
      "   ---------------- ----------------------- 4.8/11.5 MB 27.9 MB/s eta 0:00:01\n",
      "   ------------------- -------------------- 5.6/11.5 MB 25.8 MB/s eta 0:00:01\n",
      "   --------------------- ------------------ 6.3/11.5 MB 25.2 MB/s eta 0:00:01\n",
      "   ------------------------ --------------- 7.0/11.5 MB 24.9 MB/s eta 0:00:01\n",
      "   --------------------------- ------------ 7.8/11.5 MB 23.7 MB/s eta 0:00:01\n",
      "   ----------------------------- ---------- 8.5/11.5 MB 23.6 MB/s eta 0:00:01\n",
      "   -------------------------------- ------- 9.3/11.5 MB 22.8 MB/s eta 0:00:01\n",
      "   ---------------------------------- ----- 10.0/11.5 MB 22.8 MB/s eta 0:00:01\n",
      "   ------------------------------------- -- 10.7/11.5 MB 23.4 MB/s eta 0:00:01\n",
      "   ---------------------------------------  11.5/11.5 MB 23.4 MB/s eta 0:00:01\n",
      "   ---------------------------------------- 11.5/11.5 MB 21.1 MB/s eta 0:00:00\n",
      "Installing collected packages: pandas\n",
      "  Attempting uninstall: pandas\n",
      "    Found existing installation: pandas 2.2.2\n",
      "    Uninstalling pandas-2.2.2:\n",
      "      Successfully uninstalled pandas-2.2.2\n",
      "Successfully installed pandas-2.2.3\n"
     ]
    },
    {
     "name": "stderr",
     "output_type": "stream",
     "text": [
      "  WARNING: Failed to remove contents in a temporary directory 'C:\\Users\\aksha\\anaconda3\\Lib\\site-packages\\~andas'.\n",
      "  You can safely remove it manually.\n",
      "ERROR: pip's dependency resolver does not currently take into account all the packages that are installed. This behaviour is the source of the following dependency conflicts.\n",
      "streamlit 1.32.0 requires numpy<2,>=1.19.3, but you have numpy 2.0.2 which is incompatible.\n",
      "streamlit 1.32.0 requires packaging<24,>=16.8, but you have packaging 24.1 which is incompatible.\n"
     ]
    }
   ],
   "source": [
    "!pip3 install --upgrade pandas"
   ]
  },
  {
   "cell_type": "code",
   "execution_count": 20,
   "id": "74b3d21b-76e3-430f-8eb7-d84c140050c4",
   "metadata": {},
   "outputs": [
    {
     "name": "stdout",
     "output_type": "stream",
     "text": [
      "Requirement already satisfied: bottleneck in c:\\users\\aksha\\anaconda3\\lib\\site-packages (1.3.7)\n",
      "Collecting bottleneck\n",
      "  Downloading Bottleneck-1.4.2-cp312-cp312-win_amd64.whl.metadata (7.9 kB)\n",
      "Requirement already satisfied: numpy in c:\\users\\aksha\\anaconda3\\lib\\site-packages (from bottleneck) (2.0.2)\n",
      "Downloading Bottleneck-1.4.2-cp312-cp312-win_amd64.whl (111 kB)\n",
      "   ---------------------------------------- 0.0/111.8 kB ? eta -:--:--\n",
      "   ------- ------------------------------- 20.5/111.8 kB 640.0 kB/s eta 0:00:01\n",
      "   ---------------------------------------- 111.8/111.8 kB 1.6 MB/s eta 0:00:00\n",
      "Installing collected packages: bottleneck\n",
      "  Attempting uninstall: bottleneck\n",
      "    Found existing installation: Bottleneck 1.3.7\n",
      "    Uninstalling Bottleneck-1.3.7:\n",
      "      Successfully uninstalled Bottleneck-1.3.7\n",
      "Successfully installed bottleneck-1.4.2\n"
     ]
    }
   ],
   "source": [
    "!pip3 install --upgrade bottleneck"
   ]
  },
  {
   "cell_type": "code",
   "execution_count": 22,
   "id": "eca32334-04db-4432-a18a-794d5d455997",
   "metadata": {},
   "outputs": [],
   "source": [
    "import numpy as np"
   ]
  },
  {
   "cell_type": "code",
   "execution_count": null,
   "id": "7f3d74f3-cd63-4775-8b12-c9832dcb817b",
   "metadata": {},
   "outputs": [],
   "source": []
  }
 ],
 "metadata": {
  "kernelspec": {
   "display_name": "Python 3 (ipykernel)",
   "language": "python",
   "name": "python3"
  },
  "language_info": {
   "codemirror_mode": {
    "name": "ipython",
    "version": 3
   },
   "file_extension": ".py",
   "mimetype": "text/x-python",
   "name": "python",
   "nbconvert_exporter": "python",
   "pygments_lexer": "ipython3",
   "version": "3.12.4"
  }
 },
 "nbformat": 4,
 "nbformat_minor": 5
}
